{
 "cells": [
  {
   "cell_type": "code",
   "execution_count": 64,
   "metadata": {},
   "outputs": [],
   "source": [
    "from matplotlib import pyplot as plt\n",
    "import numpy as np\n",
    "import pickle\n",
    "import gzip\n",
    "\n",
    "%matplotlib inline"
   ]
  },
  {
   "cell_type": "markdown",
   "metadata": {},
   "source": [
    "# Weights matrix  and biases vector"
   ]
  },
  {
   "cell_type": "code",
   "execution_count": 139,
   "metadata": {},
   "outputs": [
    {
     "name": "stdout",
     "output_type": "stream",
     "text": [
      "[(100, 784), (10, 100)] and [(100, 1), (10, 1)]\n"
     ]
    }
   ],
   "source": [
    "sizes = [784, 100, 10]\n",
    "\n",
    "num_layers = len(sizes)\n",
    "\n",
    "biases = [np.random.randn(y, 1) for y in sizes[1:]]\n",
    "weights = [np.random.randn(y, x) for x, y in zip(sizes[:-1], sizes[1:])]\n",
    "\n",
    "print([w.shape for w in weights], 'and', [b.shape for b in biases])\n",
    "\n",
    "\n",
    "def sigmoid(z):\n",
    "    return 1.0/(1.0 + np.exp(-z))\n",
    "\n",
    "\n",
    "def feedforward(a):\n",
    "    for b, w in zip(biases, weights):\n",
    "        a = sigmoid(np.dot(w, a) + b)\n",
    "    return a"
   ]
  },
  {
   "cell_type": "code",
   "execution_count": 9,
   "metadata": {},
   "outputs": [
    {
     "name": "stdout",
     "output_type": "stream",
     "text": [
      "[(100, 784), (10, 100)] and [(100, 1), (10, 1)]\n"
     ]
    }
   ],
   "source": [
    "print([w.shape for w in weights], 'and', [b.shape for b in biases])"
   ]
  },
  {
   "cell_type": "code",
   "execution_count": 10,
   "metadata": {},
   "outputs": [
    {
     "name": "stdout",
     "output_type": "stream",
     "text": [
      "(10, 1)\n"
     ]
    }
   ],
   "source": [
    "inv = np.zeros((784, 1))\n",
    "\n",
    "res = feedforward(inv)\n",
    "print(res.shape)"
   ]
  },
  {
   "cell_type": "code",
   "execution_count": 11,
   "metadata": {},
   "outputs": [
    {
     "name": "stdout",
     "output_type": "stream",
     "text": [
      "[0.37, 0.35, 0.00, 0.95, 0.03, 0.99, 0.15, 0.99, 1.00, 0.09]\n"
     ]
    }
   ],
   "source": [
    "print(np.array2string(res.reshape((-1,)), separator=', ', formatter={'float_kind': lambda x: f'{x:0.2f}'}))"
   ]
  },
  {
   "cell_type": "code",
   "execution_count": 12,
   "metadata": {},
   "outputs": [],
   "source": [
    "def load_data():\n",
    "    with gzip.open('data/mnist.pkl.gz', 'rb') as f:\n",
    "        train_data, valid_data, test_data = pickle.load(f, encoding='latin1')\n",
    "    \n",
    "    return train_data, valid_data, test_data\n",
    "\n",
    "\n",
    "train_data, valid_data, test_data = load_data()"
   ]
  },
  {
   "cell_type": "code",
   "execution_count": 13,
   "metadata": {},
   "outputs": [
    {
     "data": {
      "text/plain": [
       "[(50000, 784), (50000,)]"
      ]
     },
     "execution_count": 13,
     "metadata": {},
     "output_type": "execute_result"
    }
   ],
   "source": [
    "[t.shape for t in train_data]"
   ]
  },
  {
   "cell_type": "code",
   "execution_count": 36,
   "metadata": {},
   "outputs": [],
   "source": [
    "x_train, y_train = train_data\n",
    "x_valid, y_valid = valid_data\n",
    "x_test, y_test = test_data"
   ]
  },
  {
   "cell_type": "code",
   "execution_count": 15,
   "metadata": {},
   "outputs": [
    {
     "data": {
      "text/plain": [
       "array([5, 0, 4, ..., 8, 4, 8])"
      ]
     },
     "execution_count": 15,
     "metadata": {},
     "output_type": "execute_result"
    }
   ],
   "source": [
    "y_train"
   ]
  },
  {
   "cell_type": "code",
   "execution_count": 140,
   "metadata": {},
   "outputs": [],
   "source": [
    "def to_categorical(x):\n",
    "    num_categories = np.unique(x).shape[0]\n",
    "    vector = np.eye(num_categories, dtype='uint8')[x]\n",
    "    return vector.reshape((-1, 10, 1))\n",
    "\n",
    "yy_train = to_categorical(y_train)\n",
    "yy_valid = to_categorical(y_valid)\n",
    "yy_test = to_categorical(y_test)"
   ]
  },
  {
   "cell_type": "code",
   "execution_count": 23,
   "metadata": {},
   "outputs": [
    {
     "data": {
      "text/plain": [
       "(50000, 10, 1)"
      ]
     },
     "execution_count": 23,
     "metadata": {},
     "output_type": "execute_result"
    }
   ],
   "source": [
    "yy_train.shape"
   ]
  },
  {
   "cell_type": "code",
   "execution_count": 24,
   "metadata": {},
   "outputs": [
    {
     "name": "stdout",
     "output_type": "stream",
     "text": [
      "[[0]\n",
      " [0]\n",
      " [0]\n",
      " [0]\n",
      " [0]\n",
      " [1]\n",
      " [0]\n",
      " [0]\n",
      " [0]\n",
      " [0]] 5\n"
     ]
    }
   ],
   "source": [
    "print(yy_train[0], y_train[0])"
   ]
  },
  {
   "cell_type": "code",
   "execution_count": 14,
   "metadata": {},
   "outputs": [
    {
     "data": {
      "text/plain": [
       "(50000, 784)"
      ]
     },
     "execution_count": 14,
     "metadata": {},
     "output_type": "execute_result"
    }
   ],
   "source": [
    "x_train.shape"
   ]
  },
  {
   "cell_type": "code",
   "execution_count": 50,
   "metadata": {},
   "outputs": [],
   "source": [
    "xx_train = x_train.reshape((-1, 784, 1))\n",
    "xx_valid = x_valid.reshape((-1, 784, 1))\n",
    "xx_test = x_test.reshape((-1, 784, 1))"
   ]
  },
  {
   "cell_type": "code",
   "execution_count": 49,
   "metadata": {},
   "outputs": [
    {
     "data": {
      "image/png": "[encoded data removed]",
      "text/plain": [
       "<Figure size 432x288 with 1 Axes>"
      ]
     },
     "metadata": {
      "needs_background": "light"
     },
     "output_type": "display_data"
    }
   ],
   "source": [
    "idx = np.random.randint(x_train.shape[0])\n",
    "plt.imshow(x_train[idx].reshape((28, 28)))\n",
    "plt.title(f'digit: {y_train[idx]}')\n",
    "plt.show()"
   ]
  },
  {
   "cell_type": "code",
   "execution_count": 48,
   "metadata": {},
   "outputs": [
    {
     "name": "stdout",
     "output_type": "stream",
     "text": [
      "[[0 0 0 1 0 0 0 0 0 0]] 3\n"
     ]
    }
   ],
   "source": [
    "idx = np.random.randint(yy_train.shape[0])\n",
    "\n",
    "print(yy_train[idx].transpose(), y_train[idx])"
   ]
  },
  {
   "cell_type": "markdown",
   "metadata": {},
   "source": [
    "## SGD\n",
    "Train the neural network using mini-batch stochastic gradient descent.  The `training_data` is a list of tuples\n",
    "`(x, y)` representing the training inputs and the desired outputs.  The other non-optional parameters are self-explanatory.  If `test_data` is provided then the network will be evaluated against the test data after each epoch, and partial progress printed out.  This is useful for tracking progress, but slows things down substantially.\n",
    "\n",
    "## update_mini_batch\n",
    "Update the network's weights and biases by applying gradient descent using backpropagation to a single mini batch. The `mini_batch` is a list of tuples `(x, y)`, and `eta` is the learning rate.\n",
    "\n",
    "## backdrop\n",
    "Return a tuple `(nabla_b, nabla_w)` representing the gradient for the cost function C_x.  `nabla_b` and `nabla_w` are layer-by-layer lists of numpy arrays, similar to `self.biases` and `self.weights`."
   ]
  },
  {
   "cell_type": "code",
   "execution_count": 146,
   "metadata": {},
   "outputs": [],
   "source": [
    "def SGD(x, y, epochs, mini_batch_size, eta, test_data=None):\n",
    "    training_data = np.array(list(zip(x, y)))\n",
    "    n = training_data.shape[0]\n",
    "    \n",
    "    if test_data is not None:\n",
    "        tx, ty = test_data\n",
    "        n_test = tx.shape[0]\n",
    "    \n",
    "    for j in range(epochs):\n",
    "        np.random.shuffle(training_data)\n",
    "        \n",
    "        mini_batches = [training_data[k:k+mini_batch_size] for k in range(0, n, mini_batch_size)]\n",
    "        \n",
    "        for mini_batch in mini_batches:\n",
    "            update_mini_batch(mini_batch, eta)\n",
    "            \n",
    "        loss, acc, match, total = evaluate(x, y)\n",
    "        print(f'Training dataset: {match} / {total},  loss: {loss:.7f},  accuracy: {acc:.2f}%')\n",
    "            \n",
    "        if test_data is not None:          \n",
    "            loss, acc, match, total = evaluate(tx, ty)\n",
    "            print(\n",
    "                f'Epoch {j:02d}: test dataset {match} / {total} ', \n",
    "                f'test loss: {loss:.7f},  test accuracy: {acc:.2f}%'\n",
    "            )\n",
    "        else:\n",
    "            print(f'Epoch {j:02d} complete')\n",
    "\n",
    "\n",
    "def update_mini_batch(mini_batch, eta):\n",
    "    global biases, weights\n",
    "    \n",
    "    nabla_b = [np.zeros(b.shape) for b in biases]\n",
    "    nabla_w = [np.zeros(w.shape) for w in weights]\n",
    "\n",
    "    for x, y in mini_batch:\n",
    "        delta_nabla_b, delta_nabla_w = backprop(x, y)\n",
    "        nabla_b = [nb+dnb for nb, dnb in zip(nabla_b, delta_nabla_b)]\n",
    "        nabla_w = [nw+dnw for nw, dnw in zip(nabla_w, delta_nabla_w)]\n",
    "\n",
    "    n_batch = len(mini_batch)\n",
    "    \n",
    "    weights = [w-eta/n_batch*nw for w, nw in zip(weights, nabla_w)]\n",
    "    biases  = [b-eta/n_batch*nb for b, nb in zip(biases,  nabla_b)]\n",
    "\n",
    "\n",
    "def backprop(x, y):\n",
    "    nabla_b = [np.zeros(b.shape) for b in biases]\n",
    "    nabla_w = [np.zeros(w.shape) for w in weights]\n",
    "    \n",
    "    # feed forward\n",
    "    activation = x\n",
    "    \n",
    "    activations = [x] # list to store all the activations, layer by layer\n",
    "    zs = [] # list to store all the z vectors, layer by layer\n",
    "    \n",
    "    for b, w in zip(biases, weights):\n",
    "        z = np.dot(w, activation) + b\n",
    "        zs.append(z)\n",
    "        activation = sigmoid(z)\n",
    "        activations.append(activation)\n",
    "        \n",
    "    # backward pass\n",
    "    \n",
    "    # cost dericative\n",
    "    delta = (activations[-1] - y) * sigmoid_prime(zs[-1])\n",
    "    \n",
    "    nabla_b[-1] = delta\n",
    "    nabla_w[-1] = np.dot(delta, activations[-2].transpose())\n",
    "    \n",
    "    for l in range(2, num_layers):\n",
    "        delta = np.dot(weights[-l+1].transpose(), delta) * sigmoid_prime(zs[-l])\n",
    "        \n",
    "        nabla_b[-l] = delta\n",
    "        nabla_w[-l] = np.dot(delta, activations[-l-1].transpose())\n",
    "        \n",
    "    return nabla_b, nabla_w\n",
    "        \n",
    "\n",
    "def sigmoid_prime(z):\n",
    "    s = sigmoid(z)\n",
    "    return s * (1 - s)\n",
    "\n",
    "\n",
    "def evaluate(x, y):\n",
    "    x = np.array([feedforward(l) for l in x])\n",
    "    \n",
    "    num_x = x.shape[0]\n",
    "    \n",
    "    loss = np.sum(np.linalg.norm(x-y)) / (2. * num_x)\n",
    "    \n",
    "    x = np.argmax(x, axis=1).reshape((-1,))\n",
    "    y = np.argmax(y, axis=1).reshape((-1,))\n",
    "    \n",
    "    match = np.sum(np.int8(x == y))\n",
    "    \n",
    "    acc = match / num_x * 100\n",
    "\n",
    "    return loss, acc, match, num_x"
   ]
  },
  {
   "cell_type": "code",
   "execution_count": null,
   "metadata": {
    "scrolled": false
   },
   "outputs": [
    {
     "name": "stdout",
     "output_type": "stream",
     "text": [
      "Training dataset: 44842 / 50000,  loss: 0.0007369,  accuracy: 89.68%\n",
      "Epoch 00: test dataset 8738 / 10000  test loss: 0.0020152,  test accuracy: 87.38%\n",
      "Training dataset: 44837 / 50000,  loss: 0.0007369,  accuracy: 89.67%\n",
      "Epoch 01: test dataset 8739 / 10000  test loss: 0.0020137,  test accuracy: 87.39%\n"
     ]
    }
   ],
   "source": [
    "SGD(x=xx_train, y=yy_train, epochs=30, mini_batch_size=10, eta=3.0, test_data=(xx_test, yy_test))"
   ]
  },
  {
   "cell_type": "code",
   "execution_count": 154,
   "metadata": {},
   "outputs": [
    {
     "name": "stdout",
     "output_type": "stream",
     "text": [
      "validation dataset: 8766 / 10000,  loss: 0.00201,  accuracy: 87.66%\n"
     ]
    }
   ],
   "source": [
    "loss, acc, match, total = evaluate(xx_valid, yy_valid)\n",
    "\n",
    "print(f'validation dataset: {match} / {total},  loss: {loss:.5f},  accuracy: {acc:.2f}%')"
   ]
  },
  {
   "cell_type": "code",
   "execution_count": 153,
   "metadata": {},
   "outputs": [
    {
     "name": "stdout",
     "output_type": "stream",
     "text": [
      "Training dataset: 44819 / 50000,  loss: 0.0007372,  accuracy: 89.64%\n",
      "Epoch 00: test dataset 8744 / 10000  test loss: 0.0020136,  test accuracy: 87.44%\n",
      "Training dataset: 44814 / 50000,  loss: 0.0007372,  accuracy: 89.63%\n",
      "Epoch 01: test dataset 8740 / 10000  test loss: 0.0020138,  test accuracy: 87.40%\n",
      "Training dataset: 44823 / 50000,  loss: 0.0007371,  accuracy: 89.65%\n",
      "Epoch 02: test dataset 8747 / 10000  test loss: 0.0020142,  test accuracy: 87.47%\n",
      "Training dataset: 44799 / 50000,  loss: 0.0007372,  accuracy: 89.60%\n",
      "Epoch 03: test dataset 8738 / 10000  test loss: 0.0020158,  test accuracy: 87.38%\n",
      "Training dataset: 44823 / 50000,  loss: 0.0007371,  accuracy: 89.65%\n",
      "Epoch 04: test dataset 8745 / 10000  test loss: 0.0020140,  test accuracy: 87.45%\n",
      "Training dataset: 44827 / 50000,  loss: 0.0007371,  accuracy: 89.65%\n",
      "Epoch 05: test dataset 8745 / 10000  test loss: 0.0020136,  test accuracy: 87.45%\n",
      "Training dataset: 44819 / 50000,  loss: 0.0007370,  accuracy: 89.64%\n",
      "Epoch 06: test dataset 8747 / 10000  test loss: 0.0020138,  test accuracy: 87.47%\n",
      "Training dataset: 44834 / 50000,  loss: 0.0007370,  accuracy: 89.67%\n",
      "Epoch 07: test dataset 8748 / 10000  test loss: 0.0020136,  test accuracy: 87.48%\n",
      "Training dataset: 44859 / 50000,  loss: 0.0007369,  accuracy: 89.72%\n",
      "Epoch 08: test dataset 8750 / 10000  test loss: 0.0020131,  test accuracy: 87.50%\n",
      "Training dataset: 44850 / 50000,  loss: 0.0007369,  accuracy: 89.70%\n",
      "Epoch 09: test dataset 8746 / 10000  test loss: 0.0020133,  test accuracy: 87.46%\n"
     ]
    }
   ],
   "source": [
    "SGD(x=xx_train, y=yy_train, epochs=10, mini_batch_size=10, eta=3.0, test_data=(xx_test, yy_test))"
   ]
  },
  {
   "cell_type": "code",
   "execution_count": 66,
   "metadata": {},
   "outputs": [],
   "source": [
    "with gzip.open('dnn-weights-nb.pkl.gz', 'wb') as f:\n",
    "    model_weights = (biases, weights)\n",
    "    f.write(pickle.dumps(model_weights))"
   ]
  },
  {
   "cell_type": "code",
   "execution_count": null,
   "metadata": {},
   "outputs": [],
   "source": []
  }
 ],
 "metadata": {
  "kernelspec": {
   "display_name": "Python 3",
   "language": "python",
   "name": "python3"
  },
  "language_info": {
   "codemirror_mode": {
    "name": "ipython",
    "version": 3
   },
   "file_extension": ".py",
   "mimetype": "text/x-python",
   "name": "python",
   "nbconvert_exporter": "python",
   "pygments_lexer": "ipython3",
   "version": "3.6.8"
  }
 },
 "nbformat": 4,
 "nbformat_minor": 2
}
