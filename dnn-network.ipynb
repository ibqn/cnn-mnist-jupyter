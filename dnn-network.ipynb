{
 "cells": [
  {
   "cell_type": "code",
   "execution_count": 2,
   "metadata": {},
   "outputs": [],
   "source": [
    "from matplotlib import pyplot as plt\n",
    "import numpy as np\n",
    "import pickle\n",
    "import gzip\n",
    "\n",
    "%matplotlib inline"
   ]
  },
  {
   "cell_type": "markdown",
   "metadata": {},
   "source": [
    "# Weights matrix  and biases vector"
   ]
  },
  {
   "cell_type": "code",
   "execution_count": 8,
   "metadata": {},
   "outputs": [
    {
     "name": "stdout",
     "output_type": "stream",
     "text": [
      "[(100, 784), (10, 100)] and [(100, 1), (10, 1)]\n"
     ]
    }
   ],
   "source": [
    "sizes = [784, 100, 10]\n",
    "\n",
    "num_layers = len(sizes)\n",
    "\n",
    "biases = [np.random.randn(y, 1) for y in sizes[1:]]\n",
    "weights = [np.random.randn(y, x) for x, y in zip(sizes[:-1], sizes[1:])]\n",
    "\n",
    "print([w.shape for w in weights], 'and', [b.shape for b in biases])\n",
    "\n",
    "\n",
    "def sigmoid(z):\n",
    "    return 1.0/(1.0 + np.exp(-z))\n",
    "\n",
    "\n",
    "def feedforward(a):\n",
    "    for b, w in zip(biases, weights):\n",
    "        a = sigmoid(np.dot(w, a) + b)\n",
    "    return a"
   ]
  },
  {
   "cell_type": "code",
   "execution_count": 9,
   "metadata": {},
   "outputs": [
    {
     "name": "stdout",
     "output_type": "stream",
     "text": [
      "[(100, 784), (10, 100)] and [(100, 1), (10, 1)]\n"
     ]
    }
   ],
   "source": [
    "print([w.shape for w in weights], 'and', [b.shape for b in biases])"
   ]
  },
  {
   "cell_type": "code",
   "execution_count": 10,
   "metadata": {},
   "outputs": [
    {
     "name": "stdout",
     "output_type": "stream",
     "text": [
      "(10, 1)\n"
     ]
    }
   ],
   "source": [
    "inv = np.zeros((784, 1))\n",
    "\n",
    "res = feedforward(inv)\n",
    "print(res.shape)"
   ]
  },
  {
   "cell_type": "code",
   "execution_count": 11,
   "metadata": {},
   "outputs": [
    {
     "name": "stdout",
     "output_type": "stream",
     "text": [
      "[0.37, 0.35, 0.00, 0.95, 0.03, 0.99, 0.15, 0.99, 1.00, 0.09]\n"
     ]
    }
   ],
   "source": [
    "print(np.array2string(res.reshape((-1,)), separator=', ', formatter={'float_kind': lambda x: f'{x:0.2f}'}))"
   ]
  },
  {
   "cell_type": "code",
   "execution_count": 12,
   "metadata": {},
   "outputs": [],
   "source": [
    "def load_data():\n",
    "    with gzip.open('data/mnist.pkl.gz', 'rb') as f:\n",
    "        train_data, valid_data, test_data = pickle.load(f, encoding='latin1')\n",
    "    \n",
    "    return train_data, valid_data, test_data\n",
    "\n",
    "\n",
    "train_data, valid_data, test_data = load_data()"
   ]
  },
  {
   "cell_type": "code",
   "execution_count": 13,
   "metadata": {},
   "outputs": [
    {
     "data": {
      "text/plain": [
       "[(50000, 784), (50000,)]"
      ]
     },
     "execution_count": 13,
     "metadata": {},
     "output_type": "execute_result"
    }
   ],
   "source": [
    "[t.shape for t in train_data]"
   ]
  },
  {
   "cell_type": "code",
   "execution_count": 36,
   "metadata": {},
   "outputs": [],
   "source": [
    "x_train, y_train = train_data\n",
    "x_valid, y_valid = valid_data\n",
    "x_test, y_test = test_data"
   ]
  },
  {
   "cell_type": "code",
   "execution_count": 15,
   "metadata": {},
   "outputs": [
    {
     "data": {
      "text/plain": [
       "array([5, 0, 4, ..., 8, 4, 8])"
      ]
     },
     "execution_count": 15,
     "metadata": {},
     "output_type": "execute_result"
    }
   ],
   "source": [
    "y_train"
   ]
  },
  {
   "cell_type": "code",
   "execution_count": 21,
   "metadata": {},
   "outputs": [],
   "source": [
    "def to_categorical(x):\n",
    "    num_categories = np.unique(x).shape[0]\n",
    "    vector = np.eye(num_categories, dtype='uint8')[x]\n",
    "    return vector.reshape((-1, 10, 1))\n",
    "\n",
    "yy_train = to_categorical(y_train)"
   ]
  },
  {
   "cell_type": "code",
   "execution_count": 23,
   "metadata": {},
   "outputs": [
    {
     "data": {
      "text/plain": [
       "(50000, 10, 1)"
      ]
     },
     "execution_count": 23,
     "metadata": {},
     "output_type": "execute_result"
    }
   ],
   "source": [
    "yy_train.shape"
   ]
  },
  {
   "cell_type": "code",
   "execution_count": 24,
   "metadata": {},
   "outputs": [
    {
     "name": "stdout",
     "output_type": "stream",
     "text": [
      "[[0]\n",
      " [0]\n",
      " [0]\n",
      " [0]\n",
      " [0]\n",
      " [1]\n",
      " [0]\n",
      " [0]\n",
      " [0]\n",
      " [0]] 5\n"
     ]
    }
   ],
   "source": [
    "print(yy_train[0], y_train[0])"
   ]
  },
  {
   "cell_type": "code",
   "execution_count": 14,
   "metadata": {},
   "outputs": [
    {
     "data": {
      "text/plain": [
       "(50000, 784)"
      ]
     },
     "execution_count": 14,
     "metadata": {},
     "output_type": "execute_result"
    }
   ],
   "source": [
    "x_train.shape"
   ]
  },
  {
   "cell_type": "code",
   "execution_count": 31,
   "metadata": {},
   "outputs": [],
   "source": [
    "xx_train = x_train.reshape((-1, 784, 1))\n",
    "xx_test = x_test.reshape((-1, 784, 1))"
   ]
  },
  {
   "cell_type": "code",
   "execution_count": 25,
   "metadata": {},
   "outputs": [
    {
     "data": {
      "image/png": "[encoded data removed]",
      "text/plain": [
       "<Figure size 432x288 with 1 Axes>"
      ]
     },
     "metadata": {
      "needs_background": "light"
     },
     "output_type": "display_data"
    }
   ],
   "source": [
    "idx = np.random.randint(x_train.shape[0])\n",
    "plt.imshow(x_train[idx].reshape((28, 28)))\n",
    "plt.title(f'digit: {y_train[idx]}')\n",
    "plt.show()"
   ]
  },
  {
   "cell_type": "code",
   "execution_count": 27,
   "metadata": {},
   "outputs": [
    {
     "name": "stdout",
     "output_type": "stream",
     "text": [
      "[[0 0 0 0 0 1 0 0 0 0]] 5\n"
     ]
    }
   ],
   "source": [
    "idx = np.random.randint(yy_train.shape[0])\n",
    "\n",
    "print(yy_train[idx].transpose(), y_train[idx])"
   ]
  },
  {
   "cell_type": "markdown",
   "metadata": {},
   "source": [
    "## SGD\n",
    "Train the neural network using mini-batch stochastic gradient descent.  The `training_data` is a list of tuples\n",
    "`(x, y)` representing the training inputs and the desired outputs.  The other non-optional parameters are self-explanatory.  If `test_data` is provided then the network will be evaluated against the test data after each epoch, and partial progress printed out.  This is useful for tracking progress, but slows things down substantially.\n",
    "\n",
    "## update_mini_batch\n",
    "Update the network's weights and biases by applying gradient descent using backpropagation to a single mini batch. The `mini_batch` is a list of tuples `(x, y)`, and `eta` is the learning rate.\n",
    "\n",
    "## backdrop\n",
    "Return a tuple `(nabla_b, nabla_w)` representing the gradient for the cost function C_x.  `nabla_b` and `nabla_w` are layer-by-layer lists of numpy arrays, similar to `self.biases` and `self.weights`."
   ]
  },
  {
   "cell_type": "code",
   "execution_count": 45,
   "metadata": {},
   "outputs": [],
   "source": [
    "def SGD(training_data, epochs, mini_batch_size, eta, test_data=None):\n",
    "    n = training_data.shape[0]\n",
    "    \n",
    "    for j in range(epochs):\n",
    "        np.random.shuffle(training_data)\n",
    "        \n",
    "        mini_batches = [training_data[k:k+mini_batch_size] for k in range(0, n, mini_batch_size)]\n",
    "        \n",
    "        for mini_batch in mini_batches:\n",
    "            update_mini_batch(mini_batch, eta)\n",
    "            \n",
    "        if test_data is not None:\n",
    "            n_test = test_data.shape[0]\n",
    "            evaluation = evaluate(test_data)\n",
    "            print(f'Epoch {j:02d}: {evaluation}/{n_test}')\n",
    "        else:\n",
    "            print(f'Epoch {j:02d} complete')\n",
    "\n",
    "\n",
    "def update_mini_batch(mini_batch, eta):\n",
    "    global biases, weights\n",
    "    \n",
    "    nabla_b = [np.zeros(b.shape) for b in biases]\n",
    "    nabla_w = [np.zeros(w.shape) for w in weights]\n",
    "\n",
    "    for x, y in mini_batch:\n",
    "        delta_nabla_b, delta_nabla_w = backprop(x, y)\n",
    "        nabla_b = [nb+dnb for nb, dnb in zip(nabla_b, delta_nabla_b)]\n",
    "        nabla_w = [nw+dnw for nw, dnw in zip(nabla_w, delta_nabla_w)]\n",
    "\n",
    "    n_batch = len(mini_batch)\n",
    "    \n",
    "    weights = [w-eta/n_batch*nw for w, nw in zip(weights, nabla_w)]\n",
    "    biases  = [b-eta/n_batch*nb for b, nb in zip(biases,  nabla_b)]\n",
    "\n",
    "\n",
    "def backprop(x, y):\n",
    "    nabla_b = [np.zeros(b.shape) for b in biases]\n",
    "    nabla_w = [np.zeros(w.shape) for w in weights]\n",
    "    \n",
    "    # feed forward\n",
    "    activation = x\n",
    "    \n",
    "    activations = [x] # list to store all the activations, layer by layer\n",
    "    zs = [] # list to store all the z vectors, layer by layer\n",
    "    \n",
    "    for b, w in zip(biases, weights):\n",
    "        z = np.dot(w, activation) + b\n",
    "        zs.append(z)\n",
    "        activation = sigmoid(z)\n",
    "        activations.append(activation)\n",
    "        \n",
    "    # backward pass\n",
    "    \n",
    "    # cost dericative\n",
    "    delta = (activations[-1] - y) * sigmoid_prime(zs[-1])\n",
    "    \n",
    "    nabla_b[-1] = delta\n",
    "    nabla_w[-1] = np.dot(delta, activations[-2].transpose())\n",
    "    \n",
    "    for l in range(2, num_layers):\n",
    "        delta = np.dot(weights[-l+1].transpose(), delta) * sigmoid_prime(zs[-l])\n",
    "        \n",
    "        nabla_b[-l] = delta\n",
    "        nabla_w[-l] = np.dot(delta, activations[-l-1].transpose())\n",
    "        \n",
    "    return nabla_b, nabla_w\n",
    "        \n",
    "\n",
    "def sigmoid_prime(z):\n",
    "    s = sigmoid(z)\n",
    "    return s * (1 - s)\n",
    "\n",
    "\n",
    "def evaluate(test_data):\n",
    "    test_results = [(np.argmax(feedforward(x)), y) for x, y in test_data]\n",
    "    return sum(int(x == y) for x, y in test_results)"
   ]
  },
  {
   "cell_type": "code",
   "execution_count": 32,
   "metadata": {},
   "outputs": [],
   "source": [
    "train_input = np.array(list(zip(xx_train, yy_train)))\n",
    "test_input = np.array(list(zip(xx_test, y_test)))"
   ]
  },
  {
   "cell_type": "code",
   "execution_count": 35,
   "metadata": {},
   "outputs": [
    {
     "name": "stdout",
     "output_type": "stream",
     "text": [
      "Epoch 0: 7727 10000\n",
      "Epoch 1: 7799 10000\n",
      "Epoch 2: 7851 10000\n",
      "Epoch 3: 7816 10000\n",
      "Epoch 4: 7857 10000\n",
      "Epoch 5: 7891 10000\n",
      "Epoch 6: 7904 10000\n",
      "Epoch 7: 7895 10000\n",
      "Epoch 8: 7904 10000\n",
      "Epoch 9: 7902 10000\n",
      "Epoch 10: 7945 10000\n",
      "Epoch 11: 7968 10000\n",
      "Epoch 12: 8003 10000\n",
      "Epoch 13: 8676 10000\n",
      "Epoch 14: 8715 10000\n",
      "Epoch 15: 8709 10000\n",
      "Epoch 16: 8725 10000\n",
      "Epoch 17: 8726 10000\n",
      "Epoch 18: 8736 10000\n",
      "Epoch 19: 8735 10000\n",
      "Epoch 20: 8734 10000\n",
      "Epoch 21: 8743 10000\n",
      "Epoch 22: 8745 10000\n",
      "Epoch 23: 8752 10000\n",
      "Epoch 24: 8754 10000\n",
      "Epoch 25: 8747 10000\n",
      "Epoch 26: 8746 10000\n",
      "Epoch 27: 8746 10000\n",
      "Epoch 28: 8745 10000\n",
      "Epoch 29: 8754 10000\n"
     ]
    }
   ],
   "source": [
    "SGD(train_input, epochs=30, mini_batch_size=10, eta=3.0, test_data=test_input)"
   ]
  },
  {
   "cell_type": "code",
   "execution_count": 38,
   "metadata": {},
   "outputs": [
    {
     "data": {
      "text/plain": [
       "8754"
      ]
     },
     "execution_count": 38,
     "metadata": {},
     "output_type": "execute_result"
    }
   ],
   "source": [
    "evaluate(test_input)"
   ]
  },
  {
   "cell_type": "code",
   "execution_count": 37,
   "metadata": {},
   "outputs": [
    {
     "data": {
      "text/plain": [
       "(50000,)"
      ]
     },
     "execution_count": 37,
     "metadata": {},
     "output_type": "execute_result"
    }
   ],
   "source": [
    "xx_train.shape\n",
    "y_train.shape"
   ]
  },
  {
   "cell_type": "code",
   "execution_count": 46,
   "metadata": {},
   "outputs": [
    {
     "name": "stdout",
     "output_type": "stream",
     "text": [
      "Evaluation of the validation dataset: 9678/10000,  accuracy: 96.78%\n"
     ]
    }
   ],
   "source": [
    "xx_valid = x_valid.reshape((-1, 784, 1))\n",
    "valid_input = np.array(list(zip(xx_valid, y_valid)))\n",
    "\n",
    "evaluation = evaluate(valid_input)\n",
    "num_valid = xx_valid.shape[0]\n",
    "accuracy = float(evaluation) / num_valid * 100\n",
    "\n",
    "print(f'Evaluation of the validation dataset: {evaluation}/{num_valid},  accuracy: {accuracy:.2f}%')"
   ]
  },
  {
   "cell_type": "code",
   "execution_count": 43,
   "metadata": {},
   "outputs": [
    {
     "name": "stdout",
     "output_type": "stream",
     "text": [
      "Epoch 0: 8746 10000\n",
      "Epoch 1: 8754 10000\n",
      "Epoch 2: 8762 10000\n",
      "Epoch 3: 8767 10000\n",
      "Epoch 4: 8782 10000\n",
      "Epoch 5: 8811 10000\n",
      "Epoch 6: 9608 10000\n",
      "Epoch 7: 9612 10000\n",
      "Epoch 8: 9618 10000\n",
      "Epoch 9: 9626 10000\n",
      "Epoch 10: 9627 10000\n",
      "Epoch 11: 9632 10000\n",
      "Epoch 12: 9657 10000\n",
      "Epoch 13: 9636 10000\n",
      "Epoch 14: 9648 10000\n",
      "Epoch 15: 9649 10000\n",
      "Epoch 16: 9644 10000\n",
      "Epoch 17: 9640 10000\n",
      "Epoch 18: 9640 10000\n",
      "Epoch 19: 9640 10000\n",
      "Epoch 20: 9657 10000\n",
      "Epoch 21: 9635 10000\n",
      "Epoch 22: 9635 10000\n",
      "Epoch 23: 9645 10000\n",
      "Epoch 24: 9648 10000\n",
      "Epoch 25: 9648 10000\n",
      "Epoch 26: 9647 10000\n",
      "Epoch 27: 9647 10000\n",
      "Epoch 28: 9649 10000\n",
      "Epoch 29: 9637 10000\n"
     ]
    }
   ],
   "source": [
    "SGD(train_input, epochs=30, mini_batch_size=10, eta=3.0, test_data=test_input)"
   ]
  },
  {
   "cell_type": "code",
   "execution_count": null,
   "metadata": {},
   "outputs": [],
   "source": []
  }
 ],
 "metadata": {
  "kernelspec": {
   "display_name": "Python 3",
   "language": "python",
   "name": "python3"
  },
  "language_info": {
   "codemirror_mode": {
    "name": "ipython",
    "version": 3
   },
   "file_extension": ".py",
   "mimetype": "text/x-python",
   "name": "python",
   "nbconvert_exporter": "python",
   "pygments_lexer": "ipython3",
   "version": "3.6.8"
  }
 },
 "nbformat": 4,
 "nbformat_minor": 2
}
